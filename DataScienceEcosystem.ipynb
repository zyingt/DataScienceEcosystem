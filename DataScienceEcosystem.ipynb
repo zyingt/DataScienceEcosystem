{
  "nbformat": 4,
  "nbformat_minor": 0,
  "metadata": {
    "colab": {
      "provenance": []
    },
    "kernelspec": {
      "name": "python3",
      "display_name": "Python 3"
    },
    "language_info": {
      "name": "python"
    }
  },
  "cells": [
    {
      "cell_type": "markdown",
      "source": [
        "# Data Science Tools and Ecosystem"
      ],
      "metadata": {
        "id": "y8gJXPk9jOMG"
      }
    },
    {
      "cell_type": "markdown",
      "source": [
        "In this notebook, Data Science Tools and Ecosystem are summarized.\n"
      ],
      "metadata": {
        "id": "XB9BHESBjVSd"
      }
    },
    {
      "cell_type": "markdown",
      "source": [
        "**Objectives:**\n",
        "\n",
        "\n",
        "*   List popular languages for Data Science\n",
        "*   List common libraries for Data Science\n",
        "*   List common tools for Data Science\n",
        "*   Perform arithmetic operations\n",
        "\n"
      ],
      "metadata": {
        "id": "sfWDRYFHmDj9"
      }
    },
    {
      "cell_type": "markdown",
      "source": [
        "Some of the popular languages that Data Scientists use are:\n",
        "\n",
        "1. Python\n",
        "2. R\n",
        "3. SQL"
      ],
      "metadata": {
        "id": "80HbpDgQjZ-L"
      }
    },
    {
      "cell_type": "markdown",
      "source": [
        "Some of the commonly used libraries used by Data Scientists include:\n",
        "\n",
        "1. Pandas\n",
        "2. Numpy\n",
        "3. Scikit-Learn\n",
        "4. TensorFlow\n",
        "5. Pytorch\n",
        "6. Matplotlib\n",
        "7. Keras"
      ],
      "metadata": {
        "id": "9ASXmB0ejgtf"
      }
    },
    {
      "cell_type": "markdown",
      "source": [
        "|Data Science Tools|\n",
        "|------------------|\n",
        "|SAS|\n",
        "|Apache Spark|\n",
        "|Apache Hadoop|\n",
        "|TensorFlow|"
      ],
      "metadata": {
        "id": "fAGUcJFqlHDM"
      }
    },
    {
      "cell_type": "markdown",
      "source": [
        "Below are a few examples of evaluating arithmetic expressions in Python"
      ],
      "metadata": {
        "id": "xEbUCNxTlHea"
      }
    },
    {
      "cell_type": "code",
      "source": [
        "# This a simple arithmetic expression to mutiply then add integers.\n",
        "(3*4)+5"
      ],
      "metadata": {
        "colab": {
          "base_uri": "https://localhost:8080/"
        },
        "id": "m7n-7cF8lDNY",
        "outputId": "ae0fdbc6-2efc-497e-be24-83678a5dcb33"
      },
      "execution_count": 5,
      "outputs": [
        {
          "output_type": "execute_result",
          "data": {
            "text/plain": [
              "17"
            ]
          },
          "metadata": {},
          "execution_count": 5
        }
      ]
    },
    {
      "cell_type": "code",
      "source": [
        "# This will convert 200 minutes to hours by diving by 60.\n",
        "200/60"
      ],
      "metadata": {
        "colab": {
          "base_uri": "https://localhost:8080/"
        },
        "id": "FbRvXolslCnu",
        "outputId": "bcb59f62-b790-41cb-b215-c4d07d09812a"
      },
      "execution_count": 6,
      "outputs": [
        {
          "output_type": "execute_result",
          "data": {
            "text/plain": [
              "3.3333333333333335"
            ]
          },
          "metadata": {},
          "execution_count": 6
        }
      ]
    },
    {
      "cell_type": "markdown",
      "source": [
        "## Author\n",
        "Rena Tang"
      ],
      "metadata": {
        "id": "aE5fMGWSmh7_"
      }
    },
    {
      "cell_type": "code",
      "source": [],
      "metadata": {
        "id": "iAP6-JM-l8Y8"
      },
      "execution_count": null,
      "outputs": []
    }
  ]
}